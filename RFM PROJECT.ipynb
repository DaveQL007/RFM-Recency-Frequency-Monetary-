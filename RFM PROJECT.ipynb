{
 "cells": [
  {
   "cell_type": "markdown",
   "id": "77a758c2-7a65-4cbc-9069-58a46da125eb",
   "metadata": {},
   "source": [
    "# RFM ANALYSIS OF SALES DATA FOR AN ONLINE STORE"
   ]
  },
  {
   "cell_type": "code",
   "execution_count": 3,
   "id": "6d0a1e7e-ff88-4cb6-a427-76a7c26a24e4",
   "metadata": {},
   "outputs": [],
   "source": [
    "# IMPORTING LIBRARIES\n",
    "import pandas as pd\n",
    "import numpy as np\n",
    "import matplotlib.pyplot as plt\n",
    "import seaborn as sns"
   ]
  },
  {
   "cell_type": "code",
   "execution_count": 5,
   "id": "281f048f-6f90-40c1-a24e-b0ee6de7b1ca",
   "metadata": {
    "collapsed": true,
    "jupyter": {
     "outputs_hidden": true
    },
    "tags": []
   },
   "outputs": [
    {
     "name": "stdout",
     "output_type": "stream",
     "text": [
      "  Invoice StockCode                          Description  Quantity  \\\n",
      "0  489434     85048  15CM CHRISTMAS GLASS BALL 20 LIGHTS        12   \n",
      "1  489434    79323P                   PINK CHERRY LIGHTS        12   \n",
      "2  489434    79323W                  WHITE CHERRY LIGHTS        12   \n",
      "3  489434     22041         RECORD FRAME 7\" SINGLE SIZE         48   \n",
      "4  489434     21232       STRAWBERRY CERAMIC TRINKET BOX        24   \n",
      "\n",
      "          InvoiceDate  Price  Customer ID         Country  \n",
      "0 2009-12-01 07:45:00   6.95      13085.0  United Kingdom  \n",
      "1 2009-12-01 07:45:00   6.75      13085.0  United Kingdom  \n",
      "2 2009-12-01 07:45:00   6.75      13085.0  United Kingdom  \n",
      "3 2009-12-01 07:45:00   2.10      13085.0  United Kingdom  \n",
      "4 2009-12-01 07:45:00   1.25      13085.0  United Kingdom  \n",
      "  Invoice StockCode                          Description  Quantity  \\\n",
      "0  536365    85123A   WHITE HANGING HEART T-LIGHT HOLDER         6   \n",
      "1  536365     71053                  WHITE METAL LANTERN         6   \n",
      "2  536365    84406B       CREAM CUPID HEARTS COAT HANGER         8   \n",
      "3  536365    84029G  KNITTED UNION FLAG HOT WATER BOTTLE         6   \n",
      "4  536365    84029E       RED WOOLLY HOTTIE WHITE HEART.         6   \n",
      "\n",
      "          InvoiceDate  Price  Customer ID         Country  \n",
      "0 2010-12-01 08:26:00   2.55      17850.0  United Kingdom  \n",
      "1 2010-12-01 08:26:00   3.39      17850.0  United Kingdom  \n",
      "2 2010-12-01 08:26:00   2.75      17850.0  United Kingdom  \n",
      "3 2010-12-01 08:26:00   3.39      17850.0  United Kingdom  \n",
      "4 2010-12-01 08:26:00   3.39      17850.0  United Kingdom  \n"
     ]
    }
   ],
   "source": [
    "#IMPORTING THE DATASETS\n",
    "df1 = pd.read_excel(\"C:\\\\Users\\\\lenovo\\\\Desktop\\\\2009_2010.xlsx\")\n",
    "df2 = pd.read_excel(\"C:\\\\Users\\\\lenovo\\\\Desktop\\\\2010_2011.xlsx\")\n",
    "print(df1.head())\n",
    "print(df2.head())"
   ]
  },
  {
   "cell_type": "code",
   "execution_count": 9,
   "id": "89d5f04e-1441-490a-8250-91ea3ee4c2d3",
   "metadata": {
    "collapsed": true,
    "jupyter": {
     "outputs_hidden": true
    },
    "tags": []
   },
   "outputs": [
    {
     "data": {
      "text/html": [
       "<div>\n",
       "<style scoped>\n",
       "    .dataframe tbody tr th:only-of-type {\n",
       "        vertical-align: middle;\n",
       "    }\n",
       "\n",
       "    .dataframe tbody tr th {\n",
       "        vertical-align: top;\n",
       "    }\n",
       "\n",
       "    .dataframe thead th {\n",
       "        text-align: right;\n",
       "    }\n",
       "</style>\n",
       "<table border=\"1\" class=\"dataframe\">\n",
       "  <thead>\n",
       "    <tr style=\"text-align: right;\">\n",
       "      <th></th>\n",
       "      <th>Invoice</th>\n",
       "      <th>StockCode</th>\n",
       "      <th>Description</th>\n",
       "      <th>Quantity</th>\n",
       "      <th>InvoiceDate</th>\n",
       "      <th>Price</th>\n",
       "      <th>Customer ID</th>\n",
       "      <th>Country</th>\n",
       "    </tr>\n",
       "  </thead>\n",
       "  <tbody>\n",
       "    <tr>\n",
       "      <th>0</th>\n",
       "      <td>489434</td>\n",
       "      <td>85048</td>\n",
       "      <td>15CM CHRISTMAS GLASS BALL 20 LIGHTS</td>\n",
       "      <td>12</td>\n",
       "      <td>2009-12-01 07:45:00</td>\n",
       "      <td>6.95</td>\n",
       "      <td>13085.0</td>\n",
       "      <td>United Kingdom</td>\n",
       "    </tr>\n",
       "    <tr>\n",
       "      <th>1</th>\n",
       "      <td>489434</td>\n",
       "      <td>79323P</td>\n",
       "      <td>PINK CHERRY LIGHTS</td>\n",
       "      <td>12</td>\n",
       "      <td>2009-12-01 07:45:00</td>\n",
       "      <td>6.75</td>\n",
       "      <td>13085.0</td>\n",
       "      <td>United Kingdom</td>\n",
       "    </tr>\n",
       "    <tr>\n",
       "      <th>2</th>\n",
       "      <td>489434</td>\n",
       "      <td>79323W</td>\n",
       "      <td>WHITE CHERRY LIGHTS</td>\n",
       "      <td>12</td>\n",
       "      <td>2009-12-01 07:45:00</td>\n",
       "      <td>6.75</td>\n",
       "      <td>13085.0</td>\n",
       "      <td>United Kingdom</td>\n",
       "    </tr>\n",
       "    <tr>\n",
       "      <th>3</th>\n",
       "      <td>489434</td>\n",
       "      <td>22041</td>\n",
       "      <td>RECORD FRAME 7\" SINGLE SIZE</td>\n",
       "      <td>48</td>\n",
       "      <td>2009-12-01 07:45:00</td>\n",
       "      <td>2.10</td>\n",
       "      <td>13085.0</td>\n",
       "      <td>United Kingdom</td>\n",
       "    </tr>\n",
       "    <tr>\n",
       "      <th>4</th>\n",
       "      <td>489434</td>\n",
       "      <td>21232</td>\n",
       "      <td>STRAWBERRY CERAMIC TRINKET BOX</td>\n",
       "      <td>24</td>\n",
       "      <td>2009-12-01 07:45:00</td>\n",
       "      <td>1.25</td>\n",
       "      <td>13085.0</td>\n",
       "      <td>United Kingdom</td>\n",
       "    </tr>\n",
       "    <tr>\n",
       "      <th>...</th>\n",
       "      <td>...</td>\n",
       "      <td>...</td>\n",
       "      <td>...</td>\n",
       "      <td>...</td>\n",
       "      <td>...</td>\n",
       "      <td>...</td>\n",
       "      <td>...</td>\n",
       "      <td>...</td>\n",
       "    </tr>\n",
       "    <tr>\n",
       "      <th>1067366</th>\n",
       "      <td>581587</td>\n",
       "      <td>22899</td>\n",
       "      <td>CHILDREN'S APRON DOLLY GIRL</td>\n",
       "      <td>6</td>\n",
       "      <td>2011-12-09 12:50:00</td>\n",
       "      <td>2.10</td>\n",
       "      <td>12680.0</td>\n",
       "      <td>France</td>\n",
       "    </tr>\n",
       "    <tr>\n",
       "      <th>1067367</th>\n",
       "      <td>581587</td>\n",
       "      <td>23254</td>\n",
       "      <td>CHILDRENS CUTLERY DOLLY GIRL</td>\n",
       "      <td>4</td>\n",
       "      <td>2011-12-09 12:50:00</td>\n",
       "      <td>4.15</td>\n",
       "      <td>12680.0</td>\n",
       "      <td>France</td>\n",
       "    </tr>\n",
       "    <tr>\n",
       "      <th>1067368</th>\n",
       "      <td>581587</td>\n",
       "      <td>23255</td>\n",
       "      <td>CHILDRENS CUTLERY CIRCUS PARADE</td>\n",
       "      <td>4</td>\n",
       "      <td>2011-12-09 12:50:00</td>\n",
       "      <td>4.15</td>\n",
       "      <td>12680.0</td>\n",
       "      <td>France</td>\n",
       "    </tr>\n",
       "    <tr>\n",
       "      <th>1067369</th>\n",
       "      <td>581587</td>\n",
       "      <td>22138</td>\n",
       "      <td>BAKING SET 9 PIECE RETROSPOT</td>\n",
       "      <td>3</td>\n",
       "      <td>2011-12-09 12:50:00</td>\n",
       "      <td>4.95</td>\n",
       "      <td>12680.0</td>\n",
       "      <td>France</td>\n",
       "    </tr>\n",
       "    <tr>\n",
       "      <th>1067370</th>\n",
       "      <td>581587</td>\n",
       "      <td>POST</td>\n",
       "      <td>POSTAGE</td>\n",
       "      <td>1</td>\n",
       "      <td>2011-12-09 12:50:00</td>\n",
       "      <td>18.00</td>\n",
       "      <td>12680.0</td>\n",
       "      <td>France</td>\n",
       "    </tr>\n",
       "  </tbody>\n",
       "</table>\n",
       "<p>1067371 rows × 8 columns</p>\n",
       "</div>"
      ],
      "text/plain": [
       "        Invoice StockCode                          Description  Quantity  \\\n",
       "0        489434     85048  15CM CHRISTMAS GLASS BALL 20 LIGHTS        12   \n",
       "1        489434    79323P                   PINK CHERRY LIGHTS        12   \n",
       "2        489434    79323W                  WHITE CHERRY LIGHTS        12   \n",
       "3        489434     22041         RECORD FRAME 7\" SINGLE SIZE         48   \n",
       "4        489434     21232       STRAWBERRY CERAMIC TRINKET BOX        24   \n",
       "...         ...       ...                                  ...       ...   \n",
       "1067366  581587     22899         CHILDREN'S APRON DOLLY GIRL          6   \n",
       "1067367  581587     23254        CHILDRENS CUTLERY DOLLY GIRL          4   \n",
       "1067368  581587     23255      CHILDRENS CUTLERY CIRCUS PARADE         4   \n",
       "1067369  581587     22138        BAKING SET 9 PIECE RETROSPOT          3   \n",
       "1067370  581587      POST                              POSTAGE         1   \n",
       "\n",
       "                InvoiceDate  Price  Customer ID         Country  \n",
       "0       2009-12-01 07:45:00   6.95      13085.0  United Kingdom  \n",
       "1       2009-12-01 07:45:00   6.75      13085.0  United Kingdom  \n",
       "2       2009-12-01 07:45:00   6.75      13085.0  United Kingdom  \n",
       "3       2009-12-01 07:45:00   2.10      13085.0  United Kingdom  \n",
       "4       2009-12-01 07:45:00   1.25      13085.0  United Kingdom  \n",
       "...                     ...    ...          ...             ...  \n",
       "1067366 2011-12-09 12:50:00   2.10      12680.0          France  \n",
       "1067367 2011-12-09 12:50:00   4.15      12680.0          France  \n",
       "1067368 2011-12-09 12:50:00   4.15      12680.0          France  \n",
       "1067369 2011-12-09 12:50:00   4.95      12680.0          France  \n",
       "1067370 2011-12-09 12:50:00  18.00      12680.0          France  \n",
       "\n",
       "[1067371 rows x 8 columns]"
      ]
     },
     "execution_count": 9,
     "metadata": {},
     "output_type": "execute_result"
    }
   ],
   "source": [
    "# COMBINING MY DATASETS\n",
    "df = pd.concat([df1,df2], ignore_index = True)\n",
    "df"
   ]
  },
  {
   "cell_type": "code",
   "execution_count": 39,
   "id": "6bbda64e-aa09-4a76-80a0-89d2c4015ffd",
   "metadata": {
    "collapsed": true,
    "jupyter": {
     "outputs_hidden": true
    },
    "tags": []
   },
   "outputs": [
    {
     "data": {
      "text/plain": [
       "0           83.40\n",
       "1           81.00\n",
       "2           81.00\n",
       "3          100.80\n",
       "4           30.00\n",
       "            ...  \n",
       "1067366     12.60\n",
       "1067367     16.60\n",
       "1067368     16.60\n",
       "1067369     14.85\n",
       "1067370     18.00\n",
       "Name: TotalAmount, Length: 1067371, dtype: float64"
      ]
     },
     "execution_count": 39,
     "metadata": {},
     "output_type": "execute_result"
    }
   ],
   "source": [
    "# DEFINE RFM METRICS\n",
    "df['OrderDate'] = pd.to_datetime(df['InvoiceDate'])\n",
    "df['TotalAmount'] = df['Quantity'] * df['Price']\n",
    "df['TotalAmount']\n",
    " "
   ]
  },
  {
   "cell_type": "code",
   "execution_count": 21,
   "id": "5e76ccd1-29f5-4b2f-8aa1-d601f1e5ef6c",
   "metadata": {
    "collapsed": true,
    "jupyter": {
     "outputs_hidden": true
    },
    "tags": []
   },
   "outputs": [
    {
     "data": {
      "text/plain": [
       "0       325\n",
       "1         1\n",
       "2        74\n",
       "3        18\n",
       "4       309\n",
       "       ... \n",
       "5937      3\n",
       "5938    429\n",
       "5939    660\n",
       "5940    476\n",
       "5941     42\n",
       "Name: recency, Length: 5942, dtype: int64"
      ]
     },
     "execution_count": 21,
     "metadata": {},
     "output_type": "execute_result"
    }
   ],
   "source": [
    "# RECENCY\n",
    "recency_df = df.groupby('Customer ID')['OrderDate'].max().reset_index() \n",
    "recency_df.columns = ['Customer ID' , 'last_order_date']\n",
    "recency_df['recency'] = (recency_df['last_order_date'].max() - recency_df['last_order_date']).dt.days\n",
    "recency_df['recency']                               "
   ]
  },
  {
   "cell_type": "code",
   "execution_count": 43,
   "id": "ac542da3-fbd5-42d4-9277-2412ac4397e1",
   "metadata": {
    "collapsed": true,
    "jupyter": {
     "outputs_hidden": true
    },
    "tags": []
   },
   "outputs": [
    {
     "data": {
      "text/html": [
       "<div>\n",
       "<style scoped>\n",
       "    .dataframe tbody tr th:only-of-type {\n",
       "        vertical-align: middle;\n",
       "    }\n",
       "\n",
       "    .dataframe tbody tr th {\n",
       "        vertical-align: top;\n",
       "    }\n",
       "\n",
       "    .dataframe thead th {\n",
       "        text-align: right;\n",
       "    }\n",
       "</style>\n",
       "<table border=\"1\" class=\"dataframe\">\n",
       "  <thead>\n",
       "    <tr style=\"text-align: right;\">\n",
       "      <th></th>\n",
       "      <th>Customer ID</th>\n",
       "      <th>frequency</th>\n",
       "    </tr>\n",
       "  </thead>\n",
       "  <tbody>\n",
       "    <tr>\n",
       "      <th>5495</th>\n",
       "      <td>17841.0</td>\n",
       "      <td>13097</td>\n",
       "    </tr>\n",
       "    <tr>\n",
       "      <th>2565</th>\n",
       "      <td>14911.0</td>\n",
       "      <td>11613</td>\n",
       "    </tr>\n",
       "    <tr>\n",
       "      <th>402</th>\n",
       "      <td>12748.0</td>\n",
       "      <td>7307</td>\n",
       "    </tr>\n",
       "    <tr>\n",
       "      <th>2260</th>\n",
       "      <td>14606.0</td>\n",
       "      <td>6709</td>\n",
       "    </tr>\n",
       "    <tr>\n",
       "      <th>1750</th>\n",
       "      <td>14096.0</td>\n",
       "      <td>5128</td>\n",
       "    </tr>\n",
       "  </tbody>\n",
       "</table>\n",
       "</div>"
      ],
      "text/plain": [
       "      Customer ID  frequency\n",
       "5495      17841.0      13097\n",
       "2565      14911.0      11613\n",
       "402       12748.0       7307\n",
       "2260      14606.0       6709\n",
       "1750      14096.0       5128"
      ]
     },
     "execution_count": 43,
     "metadata": {},
     "output_type": "execute_result"
    }
   ],
   "source": [
    "# FREQUENCY\n",
    "frequency_df = df.groupby('Customer ID')['StockCode'].count().reset_index() \n",
    "frequency_df.columns = ['Customer ID' , 'frequency']\n",
    "frequency_df\n",
    "frequency_sort = frequency_df.sort_values(by='frequency', ascending = False)\n",
    "frequency_sort.head()"
   ]
  },
  {
   "cell_type": "code",
   "execution_count": 41,
   "id": "4922c9eb-45d7-4997-b704-60eb0d7c58dc",
   "metadata": {
    "collapsed": true,
    "jupyter": {
     "outputs_hidden": true
    },
    "tags": []
   },
   "outputs": [
    {
     "data": {
      "text/html": [
       "<div>\n",
       "<style scoped>\n",
       "    .dataframe tbody tr th:only-of-type {\n",
       "        vertical-align: middle;\n",
       "    }\n",
       "\n",
       "    .dataframe tbody tr th {\n",
       "        vertical-align: top;\n",
       "    }\n",
       "\n",
       "    .dataframe thead th {\n",
       "        text-align: right;\n",
       "    }\n",
       "</style>\n",
       "<table border=\"1\" class=\"dataframe\">\n",
       "  <thead>\n",
       "    <tr style=\"text-align: right;\">\n",
       "      <th></th>\n",
       "      <th>Customer ID</th>\n",
       "      <th>TotalAmount</th>\n",
       "    </tr>\n",
       "  </thead>\n",
       "  <tbody>\n",
       "    <tr>\n",
       "      <th>5756</th>\n",
       "      <td>18102.0</td>\n",
       "      <td>598215.22</td>\n",
       "    </tr>\n",
       "    <tr>\n",
       "      <th>2300</th>\n",
       "      <td>14646.0</td>\n",
       "      <td>523342.07</td>\n",
       "    </tr>\n",
       "    <tr>\n",
       "      <th>1810</th>\n",
       "      <td>14156.0</td>\n",
       "      <td>296564.69</td>\n",
       "    </tr>\n",
       "    <tr>\n",
       "      <th>2565</th>\n",
       "      <td>14911.0</td>\n",
       "      <td>270248.53</td>\n",
       "    </tr>\n",
       "    <tr>\n",
       "      <th>5104</th>\n",
       "      <td>17450.0</td>\n",
       "      <td>233579.39</td>\n",
       "    </tr>\n",
       "  </tbody>\n",
       "</table>\n",
       "</div>"
      ],
      "text/plain": [
       "      Customer ID  TotalAmount\n",
       "5756      18102.0    598215.22\n",
       "2300      14646.0    523342.07\n",
       "1810      14156.0    296564.69\n",
       "2565      14911.0    270248.53\n",
       "5104      17450.0    233579.39"
      ]
     },
     "execution_count": 41,
     "metadata": {},
     "output_type": "execute_result"
    }
   ],
   "source": [
    "# MONETARY\n",
    "monetary_df =  df.groupby('Customer ID')['TotalAmount'].sum().reset_index()\n",
    "monetary_df.columns = ['Customer ID' , 'TotalAmount']\n",
    "monetary_sort = monetary_df.sort_values(by='TotalAmount', ascending = False)\n",
    "monetary_sort.head()"
   ]
  },
  {
   "cell_type": "code",
   "execution_count": 45,
   "id": "0e95afe8-2e94-4515-8b78-6661a7036a40",
   "metadata": {
    "collapsed": true,
    "jupyter": {
     "outputs_hidden": true
    },
    "tags": []
   },
   "outputs": [
    {
     "data": {
      "text/html": [
       "<div>\n",
       "<style scoped>\n",
       "    .dataframe tbody tr th:only-of-type {\n",
       "        vertical-align: middle;\n",
       "    }\n",
       "\n",
       "    .dataframe tbody tr th {\n",
       "        vertical-align: top;\n",
       "    }\n",
       "\n",
       "    .dataframe thead th {\n",
       "        text-align: right;\n",
       "    }\n",
       "</style>\n",
       "<table border=\"1\" class=\"dataframe\">\n",
       "  <thead>\n",
       "    <tr style=\"text-align: right;\">\n",
       "      <th></th>\n",
       "      <th>Customer ID</th>\n",
       "      <th>last_order_date</th>\n",
       "      <th>recency</th>\n",
       "      <th>frequency</th>\n",
       "      <th>TotalAmount</th>\n",
       "    </tr>\n",
       "  </thead>\n",
       "  <tbody>\n",
       "    <tr>\n",
       "      <th>0</th>\n",
       "      <td>12346.0</td>\n",
       "      <td>2011-01-18 10:17:00</td>\n",
       "      <td>325</td>\n",
       "      <td>48</td>\n",
       "      <td>-64.68</td>\n",
       "    </tr>\n",
       "    <tr>\n",
       "      <th>1</th>\n",
       "      <td>12347.0</td>\n",
       "      <td>2011-12-07 15:52:00</td>\n",
       "      <td>1</td>\n",
       "      <td>253</td>\n",
       "      <td>5633.32</td>\n",
       "    </tr>\n",
       "    <tr>\n",
       "      <th>2</th>\n",
       "      <td>12348.0</td>\n",
       "      <td>2011-09-25 13:13:00</td>\n",
       "      <td>74</td>\n",
       "      <td>51</td>\n",
       "      <td>2019.40</td>\n",
       "    </tr>\n",
       "    <tr>\n",
       "      <th>3</th>\n",
       "      <td>12349.0</td>\n",
       "      <td>2011-11-21 09:51:00</td>\n",
       "      <td>18</td>\n",
       "      <td>180</td>\n",
       "      <td>4404.54</td>\n",
       "    </tr>\n",
       "    <tr>\n",
       "      <th>4</th>\n",
       "      <td>12350.0</td>\n",
       "      <td>2011-02-02 16:01:00</td>\n",
       "      <td>309</td>\n",
       "      <td>17</td>\n",
       "      <td>334.40</td>\n",
       "    </tr>\n",
       "    <tr>\n",
       "      <th>...</th>\n",
       "      <td>...</td>\n",
       "      <td>...</td>\n",
       "      <td>...</td>\n",
       "      <td>...</td>\n",
       "      <td>...</td>\n",
       "    </tr>\n",
       "    <tr>\n",
       "      <th>5937</th>\n",
       "      <td>18283.0</td>\n",
       "      <td>2011-12-06 12:02:00</td>\n",
       "      <td>3</td>\n",
       "      <td>986</td>\n",
       "      <td>2736.65</td>\n",
       "    </tr>\n",
       "    <tr>\n",
       "      <th>5938</th>\n",
       "      <td>18284.0</td>\n",
       "      <td>2010-10-06 12:31:00</td>\n",
       "      <td>429</td>\n",
       "      <td>29</td>\n",
       "      <td>436.68</td>\n",
       "    </tr>\n",
       "    <tr>\n",
       "      <th>5939</th>\n",
       "      <td>18285.0</td>\n",
       "      <td>2010-02-17 10:24:00</td>\n",
       "      <td>660</td>\n",
       "      <td>12</td>\n",
       "      <td>427.00</td>\n",
       "    </tr>\n",
       "    <tr>\n",
       "      <th>5940</th>\n",
       "      <td>18286.0</td>\n",
       "      <td>2010-08-20 11:57:00</td>\n",
       "      <td>476</td>\n",
       "      <td>70</td>\n",
       "      <td>1188.43</td>\n",
       "    </tr>\n",
       "    <tr>\n",
       "      <th>5941</th>\n",
       "      <td>18287.0</td>\n",
       "      <td>2011-10-28 09:29:00</td>\n",
       "      <td>42</td>\n",
       "      <td>156</td>\n",
       "      <td>4177.89</td>\n",
       "    </tr>\n",
       "  </tbody>\n",
       "</table>\n",
       "<p>5942 rows × 5 columns</p>\n",
       "</div>"
      ],
      "text/plain": [
       "      Customer ID     last_order_date  recency  frequency  TotalAmount\n",
       "0         12346.0 2011-01-18 10:17:00      325         48       -64.68\n",
       "1         12347.0 2011-12-07 15:52:00        1        253      5633.32\n",
       "2         12348.0 2011-09-25 13:13:00       74         51      2019.40\n",
       "3         12349.0 2011-11-21 09:51:00       18        180      4404.54\n",
       "4         12350.0 2011-02-02 16:01:00      309         17       334.40\n",
       "...           ...                 ...      ...        ...          ...\n",
       "5937      18283.0 2011-12-06 12:02:00        3        986      2736.65\n",
       "5938      18284.0 2010-10-06 12:31:00      429         29       436.68\n",
       "5939      18285.0 2010-02-17 10:24:00      660         12       427.00\n",
       "5940      18286.0 2010-08-20 11:57:00      476         70      1188.43\n",
       "5941      18287.0 2011-10-28 09:29:00       42        156      4177.89\n",
       "\n",
       "[5942 rows x 5 columns]"
      ]
     },
     "execution_count": 45,
     "metadata": {},
     "output_type": "execute_result"
    }
   ],
   "source": [
    "# MERGING RFM METRICS\n",
    "rfm_merge = pd.merge(recency_df,frequency_df,on = 'Customer ID')\n",
    "rfm_merged = pd.merge(rfm_merge,monetary_df,on = 'Customer ID')\n",
    "rfm_merged"
   ]
  },
  {
   "cell_type": "code",
   "execution_count": 52,
   "id": "23c98f02-b317-4f04-aeb6-594ea87ac9f4",
   "metadata": {},
   "outputs": [],
   "source": [
    "#MAKING THE RESULTS SUITABLE FOR CALCULATIONS(NORMALIZATION)\n",
    "rfm_merged['recency_score'] = pd.qcut(rfm_merged['recency'],5, labels = [5,4,3,2,1])\n",
    "rfm_merged['frequency_score'] = pd.qcut(rfm_merged['frequency'],5, labels = [1,2,3,4,5])                                  \n",
    "rfm_merged['monetary_score'] = pd.qcut(rfm_merged['TotalAmount'],5, labels = [1,2,3,4,5])"
   ]
  },
  {
   "cell_type": "code",
   "execution_count": 57,
   "id": "31a417dd-2f3b-418f-b7c6-ae0914ea5109",
   "metadata": {
    "collapsed": true,
    "jupyter": {
     "outputs_hidden": true
    },
    "tags": []
   },
   "outputs": [
    {
     "data": {
      "text/plain": [
       "0       231\n",
       "1       555\n",
       "2       334\n",
       "3       445\n",
       "4       222\n",
       "       ... \n",
       "5937    554\n",
       "5938    122\n",
       "5939    112\n",
       "5940    134\n",
       "5941    445\n",
       "Name: rfm_score, Length: 5942, dtype: object"
      ]
     },
     "execution_count": 57,
     "metadata": {},
     "output_type": "execute_result"
    }
   ],
   "source": [
    "# CALCULATING RFM SCORE\n",
    "rfm_merged['rfm_score'] = rfm_merged['recency_score'].astype(str) + rfm_merged['frequency_score'].astype(str) + rfm_merged['monetary_score'].astype(str)\n",
    "rfm_merged['rfm_score']"
   ]
  },
  {
   "cell_type": "code",
   "execution_count": 77,
   "id": "616989cb-0901-4aa9-9052-aaadc7a6a58d",
   "metadata": {
    "tags": []
   },
   "outputs": [
    {
     "data": {
      "text/plain": [
       "0       Potential Upgrades\n",
       "1           Best Customers\n",
       "2       Potential Upgrades\n",
       "3          Loyal Customers\n",
       "4       Potential Upgrades\n",
       "               ...        \n",
       "5937        Best Customers\n",
       "5938       Once in a while\n",
       "5939       Once in a while\n",
       "5940       Once in a while\n",
       "5941       Loyal Customers\n",
       "Name: segments, Length: 5942, dtype: object"
      ]
     },
     "execution_count": 77,
     "metadata": {},
     "output_type": "execute_result"
    }
   ],
   "source": [
    "#CUSTOMER SEGMENTATION\n",
    "def segment_customers(score):\n",
    "    if score >= '500':\n",
    "        return 'Best Customers'\n",
    "    elif score >= '400':\n",
    "        return 'Loyal Customers'\n",
    "    elif score >= '220':\n",
    "        return 'Potential Upgrades'\n",
    "    else:\n",
    "        return'Once in a while'\n",
    "rfm_merged['segments'] = rfm_merged['rfm_score'].apply(segment_customers)\n",
    "rfm_merged['segments']"
   ]
  },
  {
   "cell_type": "code",
   "execution_count": 78,
   "id": "2debb56b-fb91-4a7e-a4ec-325b6bf85231",
   "metadata": {
    "tags": []
   },
   "outputs": [
    {
     "data": {
      "text/plain": [
       "Potential Upgrades    34.988219\n",
       "Once in a while       24.907439\n",
       "Best Customers        20.060586\n",
       "Loyal Customers       20.043756\n",
       "Name: segments, dtype: float64"
      ]
     },
     "execution_count": 78,
     "metadata": {},
     "output_type": "execute_result"
    }
   ],
   "source": [
    "#CUSTOMER DISTRIBUTION\n",
    "customer_distribution = rfm_merged['segments'].value_counts(normalize=True) * 100\n",
    "customer_distribution"
   ]
  },
  {
   "cell_type": "code",
   "execution_count": 83,
   "id": "71b921fa-8d18-46c9-9c8d-c39b2e49c03e",
   "metadata": {
    "collapsed": true,
    "jupyter": {
     "outputs_hidden": true
    },
    "tags": []
   },
   "outputs": [
    {
     "name": "stdout",
     "output_type": "stream",
     "text": [
      "Customer Segmentation : \n",
      "   Customer ID     last_order_date  recency  frequency  TotalAmount  \\\n",
      "0      12346.0 2011-01-18 10:17:00      325         48       -64.68   \n",
      "1      12347.0 2011-12-07 15:52:00        1        253      5633.32   \n",
      "2      12348.0 2011-09-25 13:13:00       74         51      2019.40   \n",
      "3      12349.0 2011-11-21 09:51:00       18        180      4404.54   \n",
      "4      12350.0 2011-02-02 16:01:00      309         17       334.40   \n",
      "\n",
      "  recency_score frequency_score monetary_score rfm_score            segments  \n",
      "0             2               3              1       231  Potential Upgrades  \n",
      "1             5               5              5       555      Best Customers  \n",
      "2             3               3              4       334  Potential Upgrades  \n",
      "3             4               4              5       445     Loyal Customers  \n",
      "4             2               2              2       222  Potential Upgrades  \n",
      "\n",
      "customer_distribution\n",
      "Potential Upgrades    34.988219\n",
      "Once in a while       24.907439\n",
      "Best Customers        20.060586\n",
      "Loyal Customers       20.043756\n",
      "Name: segments, dtype: float64\n"
     ]
    }
   ],
   "source": [
    "#PRINTING OUR RESULTS\n",
    "print('Customer Segmentation : ')\n",
    "print(rfm_merged.head())\n",
    "print('\\ncustomer_distribution')\n",
    "print(customer_distribution)"
   ]
  },
  {
   "cell_type": "code",
   "execution_count": 91,
   "id": "5303db14-912c-41a6-8fef-f38cd04e9871",
   "metadata": {
    "collapsed": true,
    "jupyter": {
     "outputs_hidden": true
    },
    "tags": []
   },
   "outputs": [
    {
     "data": {
      "image/png": "[encoded data removed]",
      "text/plain": [
       "<Figure size 1000x500 with 1 Axes>"
      ]
     },
     "metadata": {},
     "output_type": "display_data"
    }
   ],
   "source": [
    "#VISUALIZING OUR RESULTS\n",
    "rfm_merged = rfm_merged.sort_values(by='segments', ascending = False)\n",
    "plt.figure(figsize=(10,5))\n",
    "sns.countplot(x='segments', data=rfm_merged)\n",
    "plt.title('Customer Distribution')\n",
    "plt.xlabel('Segment')\n",
    "plt.ylabel('Count')\n",
    "plt.show()"
   ]
  },
  {
   "cell_type": "code",
   "execution_count": 100,
   "id": "4e5cf62c-34ac-4a77-b264-91a8de608d46",
   "metadata": {
    "collapsed": true,
    "jupyter": {
     "outputs_hidden": true
    },
    "tags": []
   },
   "outputs": [
    {
     "data": {
      "image/png": "[encoded data removed]",
      "text/plain": [
       "<Figure size 1500x500 with 3 Axes>"
      ]
     },
     "metadata": {},
     "output_type": "display_data"
    }
   ],
   "source": [
    "#VISUALIZING RFM METRICS\n",
    "fig,axs = plt.subplots(1,3,figsize=(15,5))\n",
    "sns.histplot(rfm_merged['recency'], ax = axs[0],  kde = True)\n",
    "axs[0].set_title('Recency')\n",
    "sns.histplot(rfm_merged['frequency'], ax = axs[1], kde = True)\n",
    "axs[1].set_title('Frequency')\n",
    "sns.histplot(rfm_merged['TotalAmount'], ax = axs[2],  kde = True)\n",
    "axs[2].set_title('Monetary')\n",
    "plt.tight_layout()\n",
    "plt.show()"
   ]
  },
  {
   "cell_type": "code",
   "execution_count": 106,
   "id": "15bba14d-310a-4c6d-8346-6e74a4269e22",
   "metadata": {},
   "outputs": [],
   "source": [
    "# SAVE RESULTS TO EXCEL\n",
    "rfm_merged.to_excel('rfm_analysis.xlsx', index=True)"
   ]
  },
  {
   "cell_type": "code",
   "execution_count": null,
   "id": "c3439f59-1607-450e-9bb0-580484903934",
   "metadata": {},
   "outputs": [],
   "source": [
    "metric = ['recency','frequency','TotalAmount']\n",
    "fig,axs = plt.subplots(1,len(metric),figsize=(15,5))\n",
    "for i,metrics in enumerate(metric):\n",
    "    sns.histplot(rfm_merged[metric], ax = axs[i], kde = True)\n",
    "    axs[i].set_xlim([0,rfm_merged[metric].max() * 1.1])\n",
    "    \n",
    "plt.tight_layout()\n",
    "plt.show()"
   ]
  }
 ],
 "metadata": {
  "kernelspec": {
   "display_name": "Python 3 (ipykernel)",
   "language": "python",
   "name": "python3"
  },
  "language_info": {
   "codemirror_mode": {
    "name": "ipython",
    "version": 3
   },
   "file_extension": ".py",
   "mimetype": "text/x-python",
   "name": "python",
   "nbconvert_exporter": "python",
   "pygments_lexer": "ipython3",
   "version": "3.10.9"
  }
 },
 "nbformat": 4,
 "nbformat_minor": 5
}
